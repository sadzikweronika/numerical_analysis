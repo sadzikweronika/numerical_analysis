{
 "cells": [
  {
   "cell_type": "markdown",
   "id": "76959b52-7464-4572-a36a-436dabe898d0",
   "metadata": {},
   "source": [
    "`Weronika Sadzik`\n",
    "\n",
    "`Python - zestaw 1`\n",
    "\n",
    "`Analiza Numeryczna 2022/23`"
   ]
  },
  {
   "cell_type": "code",
   "execution_count": 1,
   "id": "5dec9039-7f6e-4fd7-9d3e-5ca46f4d7e02",
   "metadata": {},
   "outputs": [],
   "source": [
    "import numpy as np\n",
    "from decimal import *\n",
    "from scipy.interpolate import interp1d\n",
    "from typing import Union\n",
    "import math"
   ]
  },
  {
   "cell_type": "markdown",
   "id": "99b4001a-650c-4f91-b4a8-5bd4da48fcad",
   "metadata": {},
   "source": [
    "## Zadanie 1"
   ]
  },
  {
   "cell_type": "markdown",
   "id": "338886d5-1680-4232-a89a-6ef15c09b878",
   "metadata": {},
   "source": [
    "Rozwiązać równania \n",
    "\n",
    "- $x^2 + 10^8x+1 \\quad (1)$ \n",
    "\n",
    "- $x^2 - 10^8x+1 \\quad (2)$,\n",
    "\n",
    "używając szkolnych wzorów na rozwiązanie. Wypisać otrzymane $x_1, x_2$ i podstawić je z powrotem do równania. Jaki wynik otrzymaliśmy i dlaczego? Zaimplementować równoważny, numerycznie poprawny sposób na obliczenie pierwiastków równania kwadratowego na komputerze i porównać wyniki."
   ]
  },
  {
   "cell_type": "code",
   "execution_count": 2,
   "id": "1fd928c6-64d2-42ba-8d18-d0aa0f361bee",
   "metadata": {},
   "outputs": [],
   "source": [
    "delta = 1e16 - 4"
   ]
  },
  {
   "cell_type": "code",
   "execution_count": 3,
   "id": "c937cb73-84c8-4556-abd7-909c6898e6b9",
   "metadata": {},
   "outputs": [
    {
     "name": "stdout",
     "output_type": "stream",
     "text": [
      "-7.450580596923828e-09\n",
      "-100000000.0\n",
      "\n",
      "\n",
      "0.2549419403076172\n",
      "1.0\n"
     ]
    }
   ],
   "source": [
    "f1 = lambda x: x ** 2 + 1e8 * x + 1\n",
    "\n",
    "x1 = (- 1e8 + delta ** .5) / 2\n",
    "x2 = (- 1e8 - delta ** .5) / 2\n",
    "\n",
    "print(x1, x2, '\\n', sep='\\n')\n",
    "print(f1(x1), f1(x2), sep='\\n')"
   ]
  },
  {
   "cell_type": "code",
   "execution_count": 4,
   "id": "25c4960f-c27f-4968-ba20-0a8461a4168d",
   "metadata": {},
   "outputs": [
    {
     "name": "stdout",
     "output_type": "stream",
     "text": [
      "100000000.0\n",
      "7.450580596923828e-09\n",
      "\n",
      "\n",
      "2e+16\n",
      "1.7450580596923828\n"
     ]
    }
   ],
   "source": [
    "f2 = lambda x: x ** 2 - 1e8 * x + 1\n",
    "\n",
    "x1 = (1e8 + delta ** .5) / 2\n",
    "x2 = (1e8 - delta ** .5) / 2\n",
    "\n",
    "print(x1, x2, '\\n', sep='\\n')\n",
    "print(f1(x1), f1(x2), sep='\\n')"
   ]
  },
  {
   "cell_type": "markdown",
   "id": "e8dc4ec8-9060-4492-b5bc-fa89855e2ed0",
   "metadata": {},
   "source": [
    "Otrzymaliśmy wyniki różne od 0. Przyczyną tego faktu jest arytmetyka fl - konkretnie odejmowanie prawie równych liczb. W \"szkolnym\" wzorze na pierwiastki równania kwadratowego musimy odjąć $\\sqrt{b^2-4ac}$ od $b$, które są prawie sobie równe - komputer nie jest w stanie przechować tak wielu miejsc po przecinku. \n",
    "\n",
    "Z drugiej strony, popatrzmy na same pierwiastki, które uzyskaliśmy - drugi pierwiastek jest bardzo bliski pierwiastkowi wyznaczonemu \"na kartce\", ale pierwszy z powodu reprezentacji liczb zmiennoprzecinkowych różni się znacząco od poprawnego rozwiązania.\n",
    "\n",
    "\n",
    "Możemy skorzystać z innego algorytmu na pierwiastków równania kwadratowego, który jest stabilniejszy numerycznie:\n",
    "\n",
    "$x_1 = \\frac{-b-sgn(b)\\sqrt{b^2-4ac}}{2a}$\n",
    "\n",
    "$x_2 = \\frac{2c}{-b-sgn(b)\\sqrt{b^2-4ac}}$.\n",
    "\n",
    "Istnieje również inny algorytm wyznaczania takich pierwiastków:\n",
    "\n",
    "$x = \\frac{2c}{-b\\pm \\sqrt{b^2-4ac}}$.\n",
    "\n",
    "Warty zaznaczenia jest fakt, że nie istnieje jeden, uniwersalny algorytm - wszystko jest zależne od współczynników $a, b$ i $c$, ponieważ numerycznie możemy się w trakcie rozwiązywania takich równań na komputerze natchnąć na przeróżne problemy (innym przykładowym problemem jest bardzo mała wartość współczynnika $a$, gdyż zmuszamy wtedy komputer do dzielenia przez bardzo małą liczbę - ponownie wchodzi problem fl). "
   ]
  },
  {
   "cell_type": "code",
   "execution_count": 5,
   "id": "d4b436a4-823d-414d-b085-3c3bf12c94eb",
   "metadata": {},
   "outputs": [],
   "source": [
    "a = 1\n",
    "b = 1e8\n",
    "#b = -1e8\n",
    "c = 1\n",
    "\n",
    "delta = b ** 2 - 4 * a * c "
   ]
  },
  {
   "cell_type": "code",
   "execution_count": 6,
   "id": "0bd5c002-189e-4021-a23f-45b5ca7e4834",
   "metadata": {},
   "outputs": [
    {
     "name": "stdout",
     "output_type": "stream",
     "text": [
      "-100000000.0\n",
      "-1e-08\n",
      "1.0\n",
      "1.1102230246251565e-16\n"
     ]
    }
   ],
   "source": [
    "u = -b - np.sign(b) * np.sqrt(delta)\n",
    "x1 = u / (2 * a)\n",
    "x2 = (2 * c) / u\n",
    "\n",
    "print(x1)\n",
    "print(x2)\n",
    "print(f1(x1))\n",
    "print(f1(x2))"
   ]
  },
  {
   "cell_type": "markdown",
   "id": "3fad44e6-9ecb-4a4f-b90a-0694ae8858e5",
   "metadata": {},
   "source": [
    "Wciąż nie jesteśmy w stanie otrzymać zera po podstawieniu uzyskanych pierwiastków do wzoru funkcji (ponownie kwestia arytmetyki fl), ale same pierwiastki, które otrzymaliśmy, są już bardzo bliskie pierwiatków wyznaczonych \"na kartce\".\n",
    "\n",
    "Sprawdźmy jeszcze zachowanie drugiego algorytmu."
   ]
  },
  {
   "cell_type": "code",
   "execution_count": 7,
   "id": "143b6152-49d6-4e21-bc84-0dbdc91e3449",
   "metadata": {},
   "outputs": [
    {
     "name": "stdout",
     "output_type": "stream",
     "text": [
      "-134217728.0\n",
      "-1e-08\n",
      "4592625709481985.0\n",
      "1.1102230246251565e-16\n"
     ]
    }
   ],
   "source": [
    "x1 = (2 * c) / (-b + math.sqrt(delta))\n",
    "x2 = (2 * c) / (-b - math.sqrt(delta))\n",
    "print(x1)\n",
    "print(x2)\n",
    "print(f1(x1))\n",
    "print(f1(x2))"
   ]
  },
  {
   "cell_type": "markdown",
   "id": "6064a86a-8544-4ec4-a300-3fa3f0297f75",
   "metadata": {},
   "source": [
    "Również nie jesteśmy w stanie uzyskać idealnych wartości (i nigdy nie będziemy w stanie...), chociaż w tym przykładzie drugi pierwiastek po podstawieniu do wzoru funkcji bardzo mocno zbliżył się do 0, a pierwszy \"eksplodował\" oddalając się od rzeczywistego rozwiązania z wspomnianego wcześniej powodu odejmowania od siebie liczb, które są sobie prawie równe.\n",
    "\n",
    "**Źródło algorytmu:** https://math.stackexchange.com/questions/4000135/quadratic-formula-fails-numerically-at-small-a-coefficients\n",
    "\n",
    "Dodatkowo, chciałam sprawdzić, co się stanie, jeżeli skorzystamy z drugiego, stabilniejszego algorytmu, ale po użyciu dokładniejszej reprezentacji liczb zmiennoprzecinkowych na komputerze z użyciem biblioteki `decimal`. Ponieważ obliczenia nie są zbyt ciężkie obliczeniowo, możemy użyć bardzo wysokiej precyzji np. do 128 miejsc."
   ]
  },
  {
   "cell_type": "code",
   "execution_count": 8,
   "id": "a35a5209-7445-4743-a10d-cfbd1d22413b",
   "metadata": {},
   "outputs": [],
   "source": [
    "getcontext().prec = 128"
   ]
  },
  {
   "cell_type": "code",
   "execution_count": 9,
   "id": "ff56e780-f3a2-480a-b881-4ac07d84442e",
   "metadata": {},
   "outputs": [],
   "source": [
    "a = 1\n",
    "b = 1e8\n",
    "#b = -1e8\n",
    "c = 1\n",
    "\n",
    "delta = Decimal(b ** 2 - 4 * a * c)"
   ]
  },
  {
   "cell_type": "code",
   "execution_count": 10,
   "id": "f0b4a295-a932-457a-a70b-8ce826afdd01",
   "metadata": {},
   "outputs": [
    {
     "name": "stdout",
     "output_type": "stream",
     "text": [
      "-99999999.99999998999999999999999899999999999999979999999999999994999999999999998599999999999999579999999999999867999999999999957\n",
      "-1.0000000000000001000000000000000200000000000000050000000000000014000000000000004200000000000001320000000000000429000000000000143E-8\n",
      "-1E-112\n",
      "0E-127\n"
     ]
    }
   ],
   "source": [
    "u = Decimal(-b) - Decimal(np.sign(b)) * Decimal(np.sqrt(delta))\n",
    "x1 = u / Decimal(2 * a)\n",
    "x2 = Decimal(2 * c) / u\n",
    "\n",
    "print(x1)\n",
    "print(x2)\n",
    "print(f1(x1))\n",
    "print(f1(x2))"
   ]
  },
  {
   "cell_type": "markdown",
   "id": "d7b36eb7-e55f-4f74-b59b-d26764b57c11",
   "metadata": {},
   "source": [
    "Zgodnie z przypuszczeniami, im większą precyzję ustawimy, tym wartość funkcji w wyznaczonym pierwiastku bardziej zbliża się do 0 i dla precyzji do 128 miejsc, po podstawieniu uzyskanych pierwiastków do wzoru funkcji, uzyskujemy liczby, które mają same zera do 110-125 miejsca po przecinku."
   ]
  },
  {
   "cell_type": "markdown",
   "id": "cf087de1-09ac-47c5-bd57-23d4da126f9b",
   "metadata": {},
   "source": [
    "## Zadanie 8"
   ]
  },
  {
   "cell_type": "markdown",
   "id": "05168c60-e2a2-4fc4-ba42-dfd4646effdc",
   "metadata": {},
   "source": [
    "IN: $f(x) = \\cos x, x\\in [0;10], x_1 = 1, x_2 = 2, \\ldots, x_{10} = 10$.\n",
    "\n",
    "OUT: Wykres wielomianu interpolacyjnego kawałkami liniowego, opartego na węzłach $x_1, \\ldots, x_{10}$ (patrz poprzednie zadanie).\n",
    "\n",
    "Proszę policzyć dla każdego z punktów z wektora `np.linspace(0, 10, 105)` błąd interpolacji. \n",
    "\n",
    "Wypisać minimum, maksimum i średnią z:\n",
    "\n",
    "a) wektora różnic;\n",
    "\n",
    "b) wektora błędów bezwzględnych dla wskazanych punktów.\n",
    "\n",
    "Porównać swoje wyniki z błędami uzyskanymi poprzez przybliżenie funkcji $f$ przez obiekt `scipy.interpolate.interp1d`."
   ]
  },
  {
   "cell_type": "code",
   "execution_count": 11,
   "id": "7115ce5f-3f58-4ba3-8d23-0feb30695e95",
   "metadata": {},
   "outputs": [],
   "source": [
    "def spline_1d(x: Union[float, int], vals: list[tuple]) -> Union[float, int]:\n",
    "    \"\"\"\n",
    "    Returns value at a given argument of linear interpolation function.\n",
    "    If the argument is greater then last node (in sorted order) it returns value in the last node.\n",
    "    If the argument is less then first node (in sorted order) it returns value in the first node.\n",
    "    Args:\n",
    "        x (Union[float, int]): argument in which we want to obtain interpolation function value\n",
    "        vals_vect (list[tuple]): list of tuples, where first values are nodes \n",
    "                                 and second values are values of function in nodes\n",
    "    \"\"\"\n",
    "    vals = sorted(vals, key=lambda tup: tup[0])\n",
    "    n = len(vals)\n",
    "    if x < vals[0][0]:\n",
    "        return vals[0][1]\n",
    "    \n",
    "    if x > vals[n - 1][0]:\n",
    "        return vals[n - 1][1]\n",
    "    \n",
    "    val1 = next((arg for arg in vals if arg[0] >= x), None)\n",
    "    val0 = vals[vals.index(val1) - 1]\n",
    "    y1, x1 = val1[1], val1[0]\n",
    "    y0, x0 = val0[1], val0[0]\n",
    "    yp = y0 + ((y1 - y0) / (x1 - x0)) * (x - x0)\n",
    "    \n",
    "    return yp"
   ]
  },
  {
   "cell_type": "code",
   "execution_count": 12,
   "id": "6831c158-700f-4d85-ac80-01089973b3e7",
   "metadata": {},
   "outputs": [],
   "source": [
    "node_vals = [(i, np.math.cos(i)) for i in range(1, 11)]"
   ]
  },
  {
   "cell_type": "code",
   "execution_count": 13,
   "id": "caa8717b-6c9d-42eb-9a6f-34fe28d32841",
   "metadata": {},
   "outputs": [
    {
     "name": "stdout",
     "output_type": "stream",
     "text": [
      "Minimum z wektora różnic: -0.45969769413186023\n",
      "Maksimum z wektora różnic: 0.12182749813960936\n",
      "Średnia z wektora różnic: -0.020419828442142362\n",
      "\n",
      "\n",
      "Minimum z wektora błędów bezwzględnych: 0.0\n",
      "Maksimum z błędów bezwzględnych: 0.45969769413186023\n",
      "Średnia z błędów bezwzględnych: 0.07765593848212136\n"
     ]
    }
   ],
   "source": [
    "interp_errors = np.array(list(map(lambda x: spline_1d(x, node_vals), np.linspace(0, 10, 105)))) - np.array(list(map(np.math.cos, \n",
    "                                                                                                    np.linspace(0, 10, 105))))\n",
    "\n",
    "print(f'Minimum z wektora różnic: {np.min(interp_errors)}', f'Maksimum z wektora różnic: {np.max(interp_errors)}', \n",
    "      f'Średnia z wektora różnic: {np.mean(interp_errors)}', '\\n', sep='\\n')\n",
    "\n",
    "interp_abs_errors = np.abs(interp_errors)\n",
    "print(f'Minimum z wektora błędów bezwzględnych: {np.min(interp_abs_errors)}', f'Maksimum z błędów bezwzględnych: {np.max(interp_abs_errors)}', \n",
    "      f'Średnia z błędów bezwzględnych: {np.mean(interp_abs_errors)}', sep='\\n')"
   ]
  },
  {
   "cell_type": "code",
   "execution_count": 14,
   "id": "a45d2cd7-cd04-4270-8403-2c995f68d486",
   "metadata": {},
   "outputs": [],
   "source": [
    "x = [tup[0] for tup in node_vals]\n",
    "y = [tup[1] for tup in node_vals]"
   ]
  },
  {
   "cell_type": "code",
   "execution_count": 15,
   "id": "3c5dffce-f1b4-4f65-bac6-ba4eb66a4750",
   "metadata": {},
   "outputs": [
    {
     "name": "stdout",
     "output_type": "stream",
     "text": [
      "Minimum z wektora różnic: -0.45969769413186023\n",
      "Maksimum z wektora różnic: 0.12182749813960936\n",
      "Średnia z wektora różnic: -0.020419828442142362\n",
      "\n",
      "\n",
      "Minimum z wektora błędów bezwzględnych: 0.0\n",
      "Maksimum z błędów bezwzględnych: 0.45969769413186023\n",
      "Średnia z błędów bezwzględnych: 0.07765593848212136\n"
     ]
    }
   ],
   "source": [
    "interp_errors = np.array(list(map(interp1d(x, y, fill_value=(y[0], y[-1]), bounds_error=False), np.linspace(0, 10, 105)))) - np.array(list(map(np.math.cos, \n",
    "                                                                                                                 np.linspace(0, 10, 105))))\n",
    "    \n",
    "print(f'Minimum z wektora różnic: {np.min(interp_errors)}', f'Maksimum z wektora różnic: {np.max(interp_errors)}', \n",
    "      f'Średnia z wektora różnic: {np.mean(interp_errors)}', '\\n', sep='\\n')\n",
    "\n",
    "interp_abs_errors = np.abs(interp_errors)\n",
    "print(f'Minimum z wektora błędów bezwzględnych: {np.min(interp_abs_errors)}', f'Maksimum z błędów bezwzględnych: {np.max(interp_abs_errors)}', \n",
    "      f'Średnia z błędów bezwzględnych: {np.mean(interp_abs_errors)}', sep='\\n')"
   ]
  },
  {
   "cell_type": "markdown",
   "id": "66c7dd4d-91c5-4fe9-b636-1e058e5c31d5",
   "metadata": {},
   "source": [
    "**Wniosek:** wyniki pochodzące z obiektu `scipy.interpolate.interp1d` są identyczne, jak wyniki pochodzące z funkcji `spline_1d`."
   ]
  },
  {
   "cell_type": "code",
   "execution_count": null,
   "id": "d9652921-2720-4bc1-9d1e-5b06fc92dc97",
   "metadata": {},
   "outputs": [],
   "source": []
  }
 ],
 "metadata": {
  "kernelspec": {
   "display_name": "Python 3 (ipykernel)",
   "language": "python",
   "name": "python3"
  },
  "language_info": {
   "codemirror_mode": {
    "name": "ipython",
    "version": 3
   },
   "file_extension": ".py",
   "mimetype": "text/x-python",
   "name": "python",
   "nbconvert_exporter": "python",
   "pygments_lexer": "ipython3",
   "version": "3.9.13"
  }
 },
 "nbformat": 4,
 "nbformat_minor": 5
}
