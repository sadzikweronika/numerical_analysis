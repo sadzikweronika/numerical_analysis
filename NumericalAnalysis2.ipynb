{
 "cells": [
  {
   "cell_type": "markdown",
   "id": "33bf3ac5-8828-4892-8b67-beb36df987b7",
   "metadata": {},
   "source": [
    "`Weronika Sadzik`\n",
    "\n",
    "`Python - zestaw 2`\n",
    "\n",
    "`Analiza Numeryczna 2022/23`"
   ]
  },
  {
   "cell_type": "code",
   "execution_count": 1,
   "id": "0d43b1b3-ee75-4749-8c57-f74bdefaf055",
   "metadata": {},
   "outputs": [],
   "source": [
    "import numpy as np\n",
    "import matplotlib.pyplot as plt"
   ]
  },
  {
   "cell_type": "markdown",
   "id": "572a409a-be95-4baa-beb2-31aab7ed8b52",
   "metadata": {},
   "source": [
    "**IN**: Liczby rzeczywiste $a<b$, liczba $n\\in \\mathbb{N}$, rzeczywista funkcja $f$ klasy $C^2([a,b])$.\n",
    "\n",
    "**OUT**: Wartość złożonej kwadratury punktu środkowego $Q_n^{\\textit{MID}}(f) := Q(f,a,b,n)$, opartej na siatce jednostajnej z $n+1$ węzłami.\n",
    "\n",
    "1) Za pomocą odpowiednio dobranego ciągu siatek jednostajnych oraz zaimplementowanego algorytmu wykazać empirycznie, że \n",
    "\n",
    "<center>\\[\\lim_{n\\to+\\infty} n^2 \\left(\\int_a^b f(x)\\textit{dx} - Q_n^{\\textit{MID}}(f)\\right) = \\frac{(b-a)^2}{24}\\left( f^{'}(b) - f^{'}(a)\\right).\\]</center>\n",
    "\n",
    "W tym celu, wybrać funkcję testową $f(x) = \\sin x$ oraz $[a,b] = [0,\\pi]$.\n",
    "\n",
    "2) Zaimplementować i zweryfikować asymptotyczne zachowanie błędu zmodyfikowanej kwadratury punktu środkowego $\\tilde{Q}_n^{\\textit{MID}}$, dla której \n",
    "\n",
    "<center>\\[\\lim_{n\\to+\\infty} n^2 \\left(\\int_a^b f(x)\\textit{dx} - \\tilde{Q}_n^{\\textit{MID}}(f)\\right) = 0.\\]</center>\n",
    "\n",
    "Uruchomić oba algorytmy $Q_n^{\\textit{MID}}, \\tilde{Q}_n^{\\textit{MID}}$ dla identycznego zbioru wartości $n$ i funkcji testowej jak powyżej. Porównać wyniki na wykresie."
   ]
  },
  {
   "cell_type": "markdown",
   "id": "8a847183-2421-4e76-b505-e67b9f8ee649",
   "metadata": {},
   "source": [
    "## Zadanie 1"
   ]
  },
  {
   "cell_type": "markdown",
   "id": "dd4e3ce8-377a-4621-b7ab-5dc62af4e00f",
   "metadata": {},
   "source": [
    "Kwadratura punktu środkowego wyraża się wzorem:\n",
    "\n",
    "$\\int_{a}^b f(x) dx \\approx \\frac{b-a}{n}\\sum_{i=0}^{n-1} f(x_i)$, gdzie\n",
    "\n",
    "$x_i = a + \\frac{b-a}{n}(k+\\frac{1}{2})$, $k=0,1,\\ldots,n - 1$."
   ]
  },
  {
   "cell_type": "code",
   "execution_count": 2,
   "id": "c728901e-0ae3-48cf-9487-766e6eb9edba",
   "metadata": {
    "tags": []
   },
   "outputs": [],
   "source": [
    "f = lambda x: np.sin(x)\n",
    "a = 0.0\n",
    "b = np.pi\n",
    "\n",
    "f_prim = lambda x: np.cos(x)\n",
    "integral_val = 2\n",
    "asymptotic_const = lambda a, b: (b - a) ** 2 / 24 * (f_prim(b) - f_prim(a))\n",
    "right_side = asymptotic_const(a, b)"
   ]
  },
  {
   "cell_type": "code",
   "execution_count": 3,
   "id": "238603fc-4809-421e-9f75-5f7f35db7fef",
   "metadata": {},
   "outputs": [],
   "source": [
    "def midpoint_quadrature(f, a, b, n):\n",
    "    h = (b - a) / n\n",
    "    quad_nodes = np.linspace(a + .5 * h, b - .5 * h, n)\n",
    "    area = h * np.sum(f(quad_nodes))\n",
    "    return area"
   ]
  },
  {
   "cell_type": "code",
   "execution_count": 4,
   "id": "008ba4e2-4a5e-490b-9e6a-4b012af56c49",
   "metadata": {},
   "outputs": [],
   "source": [
    "ns = [10 ** i for i in range(1, 9)]\n",
    "results_mid = []\n",
    "for n in ns:\n",
    "    result = n ** 2 * (integral_val - midpoint_quadrature(f, a, b, n))\n",
    "    error = result - right_side\n",
    "    # krotka (log10(n), wartość lewej strony pod granicą, błąd lewa strona pod granicą - prawa strona)\n",
    "    results_mid.append((np.log10(n), result, error))"
   ]
  },
  {
   "cell_type": "code",
   "execution_count": 5,
   "id": "94fd8685-8aa4-4298-bac1-7e5d62d5803b",
   "metadata": {},
   "outputs": [
    {
     "data": {
      "text/plain": [
       "[(1.0, -0.8248407907974098, -0.002373757373296592),\n",
       " (2.0, -0.8224907098597356, -2.3676435622399516e-05),\n",
       " (3.0, -0.8224672702894509, -2.3686533767719453e-07),\n",
       " (4.0, -0.8224670278167423, 5.607370900939657e-09),\n",
       " (5.0, -0.8224665393186115, 4.941055017360085e-07),\n",
       " (6.0, -0.822897305852166, -0.00043027242805282473),\n",
       " (7.0, -0.8881784197001252, -0.06571138627601203),\n",
       " (8.0, -106.58141036401503, -105.75894333059091)]"
      ]
     },
     "execution_count": 5,
     "metadata": {},
     "output_type": "execute_result"
    }
   ],
   "source": [
    "results_mid"
   ]
  },
  {
   "cell_type": "markdown",
   "id": "7c1452cd-9906-4f50-bc60-9a04c3268f39",
   "metadata": {},
   "source": [
    "Od $n=10^5$ różnica między wartością lewej strony tezy pod granicą, a prawą stroną tezy zaczyna intensywnie się zwiększać. Najprawdopodobniej jest to kwestia arytmetyki fl. Po takiej obserwacji przyjmuję, że ciąg $n$, dla których będę tworzyć ciąg siatek jednostajnych to $(10, 100, 1000, 10000)$."
   ]
  },
  {
   "cell_type": "code",
   "execution_count": 6,
   "id": "a5c8233e-ca47-4d92-8c0c-4ced40116d5c",
   "metadata": {},
   "outputs": [],
   "source": [
    "ns = [10 ** i for i in range(1, 5)]\n",
    "results_mid = []\n",
    "quad_results_mid = []\n",
    "for n in ns:\n",
    "    quad_results_mid.append((np.log10(n), np.log10(midpoint_quadrature(f, a, b, n))))\n",
    "    result = n ** 2 * (integral_val - midpoint_quadrature(f, a, b, n))\n",
    "    results_mid.append((np.log10(n), result))"
   ]
  },
  {
   "cell_type": "code",
   "execution_count": 7,
   "id": "93a0edc4-e75f-41c8-8068-9e59c10b6efe",
   "metadata": {},
   "outputs": [
    {
     "name": "stdout",
     "output_type": "stream",
     "text": [
      "[(1.0, -0.8248407907974098), (2.0, -0.8224907098597356), (3.0, -0.8224672702894509), (4.0, -0.8224670278167423)]\n",
      "-0.8224670334241132\n"
     ]
    }
   ],
   "source": [
    "print(results_mid, right_side, sep='\\n')"
   ]
  },
  {
   "cell_type": "markdown",
   "id": "b1c5642a-1f9d-4dff-b9e2-124cfbf00241",
   "metadata": {},
   "source": [
    "Dla $n=10^4$ otrzymujemy prawą stronę tezy z dokładnością do 7 miejsca do przecinku."
   ]
  },
  {
   "cell_type": "markdown",
   "id": "01bc95aa-b4a7-4c47-810f-6b25945d0d0e",
   "metadata": {},
   "source": [
    "## Zadanie 2"
   ]
  },
  {
   "cell_type": "markdown",
   "id": "16621c57-c938-4098-99f2-ef91de9aa573",
   "metadata": {},
   "source": [
    "Zmodyfikowana kwadratura punktu środkowego wyraża się wzorem:\n",
    "\n",
    "$\\int_{a}^b f(x) dx \\approx \\frac{b-a}{n}\\sum_{i=0}^{n-1} f(x_i) + n^{-2}\\frac{(b-a)^2}{24}\\left( f^{'}(b) - f^{'}(a)\\right)$, gdzie\n",
    "\n",
    "$x_i = a + \\frac{b-a}{n}(k+\\frac{1}{2})$, $k=0,1,\\ldots,n - 1$."
   ]
  },
  {
   "cell_type": "code",
   "execution_count": 8,
   "id": "e6a5062c-5e2c-45c3-89e0-58510e2898ab",
   "metadata": {},
   "outputs": [],
   "source": [
    "def modified_midpoint_quadrature(f, a, b, n):\n",
    "    h = (b - a) / n\n",
    "    quad_nodes = np.linspace(a + .5 * h, b - .5 * h, n)\n",
    "    area = h * np.sum(f(quad_nodes)) + n ** (-2) * asymptotic_const(a, b)\n",
    "    return area"
   ]
  },
  {
   "cell_type": "code",
   "execution_count": 9,
   "id": "99241052-418d-45a7-864c-c8c8c5772fc6",
   "metadata": {},
   "outputs": [],
   "source": [
    "ns = [10 ** i for i in range(1, 9)]\n",
    "results_modif_mid = []\n",
    "for n in ns:\n",
    "    results_modif_mid.append((np.log10(n), integral_val - modified_midpoint_quadrature(f, a, b, n)))"
   ]
  },
  {
   "cell_type": "code",
   "execution_count": 10,
   "id": "dab0fcfa-7385-481e-ad2a-15540db8b898",
   "metadata": {},
   "outputs": [
    {
     "data": {
      "text/plain": [
       "[(1.0, -2.373757373286267e-05),\n",
       " (2.0, -2.367643414658005e-09),\n",
       " (3.0, -2.3669954885008337e-13),\n",
       " (4.0, 0.0),\n",
       " (5.0, 0.0),\n",
       " (6.0, -4.440892098500626e-16),\n",
       " (7.0, -4.440892098500626e-16),\n",
       " (8.0, -1.0658141036401503e-14)]"
      ]
     },
     "execution_count": 10,
     "metadata": {},
     "output_type": "execute_result"
    }
   ],
   "source": [
    "results_modif_mid"
   ]
  },
  {
   "cell_type": "markdown",
   "id": "bd316701-9373-4fba-9401-b71268b188cd",
   "metadata": {},
   "source": [
    "Podobnie jak wcześniej, tylko tym razem od $n=10^6$ błąd kwadratury zaczyna się zwiększać. Ponieważ wynik kwadratury dla $n=10^4$ i $n=10^5$ nie różni się, to przyjmuję, że ciąg $n$, dla których będę tworzyć ciąg siatek jednostajnych to ponownie $(10, 100, 1000, 10000)$."
   ]
  },
  {
   "cell_type": "code",
   "execution_count": 11,
   "id": "38f4cff4-15c2-44f1-abcd-3b7cf6723bd4",
   "metadata": {},
   "outputs": [],
   "source": [
    "ns = [10 ** i for i in range(1, 5)]\n",
    "results_modif_mid = []\n",
    "quad_results_modif_mid = []\n",
    "for n in ns:\n",
    "    quad_results_modif_mid.append((np.log10(n), np.log10(modified_midpoint_quadrature(f, a, b, n))))\n",
    "    results_modif_mid.append((np.log10(n), integral_val - modified_midpoint_quadrature(f, a, b, n)))"
   ]
  },
  {
   "cell_type": "code",
   "execution_count": 12,
   "id": "eed0a0a9-e555-460a-b734-9ca7258f9278",
   "metadata": {},
   "outputs": [
    {
     "data": {
      "text/plain": [
       "[(1.0, -2.373757373286267e-05),\n",
       " (2.0, -2.367643414658005e-09),\n",
       " (3.0, -2.3669954885008337e-13),\n",
       " (4.0, 0.0)]"
      ]
     },
     "execution_count": 12,
     "metadata": {},
     "output_type": "execute_result"
    }
   ],
   "source": [
    "results_modif_mid"
   ]
  },
  {
   "cell_type": "markdown",
   "id": "e4728a97-7789-49a8-ba64-a33fc4bf258c",
   "metadata": {},
   "source": [
    "Dla $n=10^4$ otrzymaliśmy błąd kwadratury równy 0.\n",
    "\n",
    "Porównajmy wyniki kwadratur na wykresie."
   ]
  },
  {
   "cell_type": "code",
   "execution_count": 13,
   "id": "7eeca337-5e09-4561-8618-d5a38da2f9c0",
   "metadata": {},
   "outputs": [
    {
     "data": {
      "image/png": "[encoded data removed]",
      "text/plain": [
       "<Figure size 1200x500 with 1 Axes>"
      ]
     },
     "metadata": {},
     "output_type": "display_data"
    }
   ],
   "source": [
    "plt.figure(figsize=(12, 5))\n",
    "plt.scatter(*zip(*quad_results_mid), label='kwadratura punktu środkowego', s=6)\n",
    "plt.scatter(*zip(*quad_results_modif_mid), label='zmodyfikowana kwadratura punktu środkowego', s=6)\n",
    "plt.xlabel('log10(n)')\n",
    "plt.ylabel('log10(wartość kwadratury)')\n",
    "plt.legend()\n",
    "plt.title('Wykres log-log wartości kwadratur w zależności od $n$ dla $f(x) = \\sin x, a=0, b=\\pi$')\n",
    "plt.show()"
   ]
  },
  {
   "cell_type": "markdown",
   "id": "2c55ade2-6660-42d7-952f-ec8cd20c3943",
   "metadata": {},
   "source": [
    "Z wykresu możemy zobaczyć, że zmodyfikowana kwadratura punktu środkowego pozwala nam uzyskać dość dokładny wynik (do 4 miejsc po przecinku) już dla $n=10$, a dla $n=100$ uzyskujemy dokładność aż do 8 miejsc po przecinku. Z drugiej strony, kwadratura punktu środkowego daje nam wynik dokładny do 8 miejsc po przecinku dopiero dla $n=10000$."
   ]
  },
  {
   "cell_type": "code",
   "execution_count": null,
   "id": "42071b59-3c55-440d-9786-2ee6f6a093ea",
   "metadata": {},
   "outputs": [],
   "source": []
  }
 ],
 "metadata": {
  "kernelspec": {
   "display_name": "Python 3 (ipykernel)",
   "language": "python",
   "name": "python3"
  },
  "language_info": {
   "codemirror_mode": {
    "name": "ipython",
    "version": 3
   },
   "file_extension": ".py",
   "mimetype": "text/x-python",
   "name": "python",
   "nbconvert_exporter": "python",
   "pygments_lexer": "ipython3",
   "version": "3.9.15"
  }
 },
 "nbformat": 4,
 "nbformat_minor": 5
}
